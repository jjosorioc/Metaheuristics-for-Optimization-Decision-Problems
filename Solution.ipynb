{
 "cells": [
  {
   "cell_type": "markdown",
   "metadata": {},
   "source": [
    "# Metaheuristics for Optimization/Decision Problems\n"
   ]
  },
  {
   "cell_type": "markdown",
   "metadata": {},
   "source": [
    "1. **Solution Representation**:\n",
    "   The solution representation for this problem can be a set of ingredients that will be included in the pizza. Each ingredient appears only once in the set, and the order of ingredients doesn't matter. This set represents the ingredients to be included in the pizza.\n",
    "   I: Set of ingredients.\n",
    "\n",
    "2. **Neighborhood/Mutation**:\n",
    "   - **Add/Remove Ingredient**: With a certain probability, randomly select an ingredient from the set of all possible ingredients. If the selected ingredient is not already in the solution, add it. If the selected ingredient is already in the solution, remove it.\n",
    "\n",
    "3. **Crossover Functions**:\n",
    "   For crossover, we can use a one-point crossover approach. However, since we're dealing with sets, the concept of crossover becomes a bit different. We can combine ingredients from both parent sets to create two child sets, ensuring that there are no duplicate ingredients in the offspring.\n",
    "\n",
    "4. **Hard Constraints**:\n",
    "   There's one hard constraint for this problem:\n",
    "   - **Non-Empty Solution**: Ensure that the solution set contains at least one ingredient. If, after mutation or crossover, the solution becomes empty, add a randomly selected ingredient from the set of all possible ingredients to the solution to maintain its non-emptiness. This ensures that there is always at least one ingredient on the pizza, as an empty pizza would not attract any clients.\n",
    "\n",
    "5. **Evaluation Functions**:\n",
    "   The evaluation function calculates the fitness of a solution by counting how many clients will visit the pizzeria with that solution. To do this, iterate over each client and check if all the ingredients they like are present in the solution and none of the ingredients they dislike are present. Increment a counter for each client that meets these conditions, and return the total count as the fitness score for the solution."
   ]
  }
 ],
 "metadata": {
  "kernelspec": {
   "display_name": "AI",
   "language": "python",
   "name": "python3"
  },
  "language_info": {
   "codemirror_mode": {
    "name": "ipython",
    "version": 3
   },
   "file_extension": ".py",
   "mimetype": "text/x-python",
   "name": "python",
   "nbconvert_exporter": "python",
   "pygments_lexer": "ipython3",
   "version": "3.10.12"
  }
 },
 "nbformat": 4,
 "nbformat_minor": 2
}
